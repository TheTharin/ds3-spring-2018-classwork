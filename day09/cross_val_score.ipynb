{
 "cells": [
  {
   "cell_type": "markdown",
   "metadata": {},
   "source": [
    "## Классификация картинок"
   ]
  },
  {
   "cell_type": "code",
   "execution_count": 38,
   "metadata": {},
   "outputs": [],
   "source": [
    "import pandas as pd\n",
    "from sklearn.datasets import load_digits\n",
    "import numpy as np"
   ]
  },
  {
   "cell_type": "code",
   "execution_count": 39,
   "metadata": {},
   "outputs": [],
   "source": [
    "digits = load_digits()"
   ]
  },
  {
   "cell_type": "code",
   "execution_count": 40,
   "metadata": {},
   "outputs": [
    {
     "data": {
      "text/plain": [
       "dict_keys(['data', 'target', 'target_names', 'images', 'DESCR'])"
      ]
     },
     "execution_count": 40,
     "metadata": {},
     "output_type": "execute_result"
    }
   ],
   "source": [
    "digits.keys()"
   ]
  },
  {
   "cell_type": "code",
   "execution_count": 41,
   "metadata": {},
   "outputs": [
    {
     "data": {
      "text/html": [
       "<div>\n",
       "<style scoped>\n",
       "    .dataframe tbody tr th:only-of-type {\n",
       "        vertical-align: middle;\n",
       "    }\n",
       "\n",
       "    .dataframe tbody tr th {\n",
       "        vertical-align: top;\n",
       "    }\n",
       "\n",
       "    .dataframe thead th {\n",
       "        text-align: right;\n",
       "    }\n",
       "</style>\n",
       "<table border=\"1\" class=\"dataframe\">\n",
       "  <thead>\n",
       "    <tr style=\"text-align: right;\">\n",
       "      <th></th>\n",
       "      <th>0</th>\n",
       "      <th>1</th>\n",
       "      <th>2</th>\n",
       "      <th>3</th>\n",
       "      <th>4</th>\n",
       "      <th>5</th>\n",
       "      <th>6</th>\n",
       "      <th>7</th>\n",
       "      <th>8</th>\n",
       "      <th>9</th>\n",
       "      <th>...</th>\n",
       "      <th>54</th>\n",
       "      <th>55</th>\n",
       "      <th>56</th>\n",
       "      <th>57</th>\n",
       "      <th>58</th>\n",
       "      <th>59</th>\n",
       "      <th>60</th>\n",
       "      <th>61</th>\n",
       "      <th>62</th>\n",
       "      <th>63</th>\n",
       "    </tr>\n",
       "  </thead>\n",
       "  <tbody>\n",
       "    <tr>\n",
       "      <th>0</th>\n",
       "      <td>0.0</td>\n",
       "      <td>0.0</td>\n",
       "      <td>5.0</td>\n",
       "      <td>13.0</td>\n",
       "      <td>9.0</td>\n",
       "      <td>1.0</td>\n",
       "      <td>0.0</td>\n",
       "      <td>0.0</td>\n",
       "      <td>0.0</td>\n",
       "      <td>0.0</td>\n",
       "      <td>...</td>\n",
       "      <td>0.0</td>\n",
       "      <td>0.0</td>\n",
       "      <td>0.0</td>\n",
       "      <td>0.0</td>\n",
       "      <td>6.0</td>\n",
       "      <td>13.0</td>\n",
       "      <td>10.0</td>\n",
       "      <td>0.0</td>\n",
       "      <td>0.0</td>\n",
       "      <td>0.0</td>\n",
       "    </tr>\n",
       "    <tr>\n",
       "      <th>1</th>\n",
       "      <td>0.0</td>\n",
       "      <td>0.0</td>\n",
       "      <td>0.0</td>\n",
       "      <td>12.0</td>\n",
       "      <td>13.0</td>\n",
       "      <td>5.0</td>\n",
       "      <td>0.0</td>\n",
       "      <td>0.0</td>\n",
       "      <td>0.0</td>\n",
       "      <td>0.0</td>\n",
       "      <td>...</td>\n",
       "      <td>0.0</td>\n",
       "      <td>0.0</td>\n",
       "      <td>0.0</td>\n",
       "      <td>0.0</td>\n",
       "      <td>0.0</td>\n",
       "      <td>11.0</td>\n",
       "      <td>16.0</td>\n",
       "      <td>10.0</td>\n",
       "      <td>0.0</td>\n",
       "      <td>0.0</td>\n",
       "    </tr>\n",
       "    <tr>\n",
       "      <th>2</th>\n",
       "      <td>0.0</td>\n",
       "      <td>0.0</td>\n",
       "      <td>0.0</td>\n",
       "      <td>4.0</td>\n",
       "      <td>15.0</td>\n",
       "      <td>12.0</td>\n",
       "      <td>0.0</td>\n",
       "      <td>0.0</td>\n",
       "      <td>0.0</td>\n",
       "      <td>0.0</td>\n",
       "      <td>...</td>\n",
       "      <td>5.0</td>\n",
       "      <td>0.0</td>\n",
       "      <td>0.0</td>\n",
       "      <td>0.0</td>\n",
       "      <td>0.0</td>\n",
       "      <td>3.0</td>\n",
       "      <td>11.0</td>\n",
       "      <td>16.0</td>\n",
       "      <td>9.0</td>\n",
       "      <td>0.0</td>\n",
       "    </tr>\n",
       "    <tr>\n",
       "      <th>3</th>\n",
       "      <td>0.0</td>\n",
       "      <td>0.0</td>\n",
       "      <td>7.0</td>\n",
       "      <td>15.0</td>\n",
       "      <td>13.0</td>\n",
       "      <td>1.0</td>\n",
       "      <td>0.0</td>\n",
       "      <td>0.0</td>\n",
       "      <td>0.0</td>\n",
       "      <td>8.0</td>\n",
       "      <td>...</td>\n",
       "      <td>9.0</td>\n",
       "      <td>0.0</td>\n",
       "      <td>0.0</td>\n",
       "      <td>0.0</td>\n",
       "      <td>7.0</td>\n",
       "      <td>13.0</td>\n",
       "      <td>13.0</td>\n",
       "      <td>9.0</td>\n",
       "      <td>0.0</td>\n",
       "      <td>0.0</td>\n",
       "    </tr>\n",
       "    <tr>\n",
       "      <th>4</th>\n",
       "      <td>0.0</td>\n",
       "      <td>0.0</td>\n",
       "      <td>0.0</td>\n",
       "      <td>1.0</td>\n",
       "      <td>11.0</td>\n",
       "      <td>0.0</td>\n",
       "      <td>0.0</td>\n",
       "      <td>0.0</td>\n",
       "      <td>0.0</td>\n",
       "      <td>0.0</td>\n",
       "      <td>...</td>\n",
       "      <td>0.0</td>\n",
       "      <td>0.0</td>\n",
       "      <td>0.0</td>\n",
       "      <td>0.0</td>\n",
       "      <td>0.0</td>\n",
       "      <td>2.0</td>\n",
       "      <td>16.0</td>\n",
       "      <td>4.0</td>\n",
       "      <td>0.0</td>\n",
       "      <td>0.0</td>\n",
       "    </tr>\n",
       "  </tbody>\n",
       "</table>\n",
       "<p>5 rows × 64 columns</p>\n",
       "</div>"
      ],
      "text/plain": [
       "    0    1    2     3     4     5    6    7    8    9  ...    54   55   56  \\\n",
       "0  0.0  0.0  5.0  13.0   9.0   1.0  0.0  0.0  0.0  0.0 ...   0.0  0.0  0.0   \n",
       "1  0.0  0.0  0.0  12.0  13.0   5.0  0.0  0.0  0.0  0.0 ...   0.0  0.0  0.0   \n",
       "2  0.0  0.0  0.0   4.0  15.0  12.0  0.0  0.0  0.0  0.0 ...   5.0  0.0  0.0   \n",
       "3  0.0  0.0  7.0  15.0  13.0   1.0  0.0  0.0  0.0  8.0 ...   9.0  0.0  0.0   \n",
       "4  0.0  0.0  0.0   1.0  11.0   0.0  0.0  0.0  0.0  0.0 ...   0.0  0.0  0.0   \n",
       "\n",
       "    57   58    59    60    61   62   63  \n",
       "0  0.0  6.0  13.0  10.0   0.0  0.0  0.0  \n",
       "1  0.0  0.0  11.0  16.0  10.0  0.0  0.0  \n",
       "2  0.0  0.0   3.0  11.0  16.0  9.0  0.0  \n",
       "3  0.0  7.0  13.0  13.0   9.0  0.0  0.0  \n",
       "4  0.0  0.0   2.0  16.0   4.0  0.0  0.0  \n",
       "\n",
       "[5 rows x 64 columns]"
      ]
     },
     "execution_count": 41,
     "metadata": {},
     "output_type": "execute_result"
    }
   ],
   "source": [
    "# признаки\n",
    "\n",
    "X = pd.DataFrame( digits['data'] )\n",
    "X.head()"
   ]
  },
  {
   "cell_type": "code",
   "execution_count": 42,
   "metadata": {},
   "outputs": [
    {
     "data": {
      "text/plain": [
       "0    0\n",
       "1    1\n",
       "2    2\n",
       "3    3\n",
       "4    4\n",
       "dtype: int64"
      ]
     },
     "execution_count": 42,
     "metadata": {},
     "output_type": "execute_result"
    }
   ],
   "source": [
    "# целевая переменная - цифра от 0 до 9\n",
    "\n",
    "Y = pd.Series( digits['target'] )\n",
    "Y.head()"
   ]
  },
  {
   "cell_type": "code",
   "execution_count": 43,
   "metadata": {},
   "outputs": [],
   "source": [
    "from sklearn.model_selection import train_test_split"
   ]
  },
  {
   "cell_type": "code",
   "execution_count": 44,
   "metadata": {},
   "outputs": [],
   "source": [
    "X_train, X_test, Y_train, Y_test = train_test_split( X, Y, test_size = 0.3, random_state = 0 )"
   ]
  },
  {
   "cell_type": "code",
   "execution_count": 45,
   "metadata": {},
   "outputs": [],
   "source": [
    "from sklearn.tree import DecisionTreeClassifier"
   ]
  },
  {
   "cell_type": "code",
   "execution_count": 46,
   "metadata": {},
   "outputs": [],
   "source": [
    "# зададим пока одно значение параметра модели max_depth\n",
    "depth = 5"
   ]
  },
  {
   "cell_type": "code",
   "execution_count": 47,
   "metadata": {},
   "outputs": [],
   "source": [
    "from sklearn.model_selection import cross_val_score"
   ]
  },
  {
   "cell_type": "code",
   "execution_count": 48,
   "metadata": {},
   "outputs": [],
   "source": [
    "score = cross_val_score( DecisionTreeClassifier( max_depth = depth ), X, Y, cv = 5, scoring = 'accuracy' )"
   ]
  },
  {
   "cell_type": "code",
   "execution_count": 49,
   "metadata": {},
   "outputs": [
    {
     "data": {
      "text/plain": [
       "0.6247101857035251"
      ]
     },
     "execution_count": 49,
     "metadata": {},
     "output_type": "execute_result"
    }
   ],
   "source": [
    "np.mean(score)"
   ]
  },
  {
   "cell_type": "code",
   "execution_count": 50,
   "metadata": {
    "scrolled": false
   },
   "outputs": [
    {
     "name": "stdout",
     "output_type": "stream",
     "text": [
      "Depth = 1, cv = 2, mean accuracy = 0.19644157781036942\n",
      "Depth = 1, cv = 3, mean accuracy = 0.19810013140861105\n",
      "Depth = 1, cv = 4, mean accuracy = 0.19810014817285126\n",
      "Depth = 1, cv = 5, mean accuracy = 0.19753067821046075\n",
      "Depth = 1, cv = 6, mean accuracy = 0.19753278357506868\n",
      "Depth = 1, cv = 7, mean accuracy = 0.1975432540492827\n",
      "Depth = 1, cv = 8, mean accuracy = 0.19753790808370494\n",
      "Depth = 1, cv = 9, mean accuracy = 0.19752864519869492\n",
      "Depth = 2, cv = 2, mean accuracy = 0.33718487394957986\n",
      "Depth = 2, cv = 3, mean accuracy = 0.31168036582235575\n",
      "Depth = 2, cv = 4, mean accuracy = 0.3093948442068247\n",
      "Depth = 2, cv = 5, mean accuracy = 0.3116298339479968\n",
      "Depth = 2, cv = 6, mean accuracy = 0.3133790902536171\n",
      "Depth = 2, cv = 7, mean accuracy = 0.31282602921895947\n",
      "Depth = 2, cv = 8, mean accuracy = 0.31620759998186565\n",
      "Depth = 2, cv = 9, mean accuracy = 0.31618727171450706\n",
      "Depth = 3, cv = 2, mean accuracy = 0.4100831665213255\n",
      "Depth = 3, cv = 3, mean accuracy = 0.4491141318535344\n",
      "Depth = 3, cv = 4, mean accuracy = 0.4340250649730049\n",
      "Depth = 3, cv = 5, mean accuracy = 0.4274291908290249\n",
      "Depth = 3, cv = 6, mean accuracy = 0.4582526881931417\n",
      "Depth = 3, cv = 7, mean accuracy = 0.4476891762363725\n",
      "Depth = 3, cv = 8, mean accuracy = 0.4588784823598476\n",
      "Depth = 3, cv = 9, mean accuracy = 0.4615273319973156\n",
      "Depth = 4, cv = 2, mean accuracy = 0.516469795465356\n",
      "Depth = 4, cv = 3, mean accuracy = 0.5471208260035068\n",
      "Depth = 4, cv = 4, mean accuracy = 0.5257871165719408\n",
      "Depth = 4, cv = 5, mean accuracy = 0.54337652345464\n",
      "Depth = 4, cv = 6, mean accuracy = 0.5405621356239513\n",
      "Depth = 4, cv = 7, mean accuracy = 0.5378248914408162\n",
      "Depth = 4, cv = 8, mean accuracy = 0.5524006781446784\n",
      "Depth = 4, cv = 9, mean accuracy = 0.5438371942253776\n",
      "Depth = 5, cv = 2, mean accuracy = 0.610018506223244\n",
      "Depth = 5, cv = 3, mean accuracy = 0.6439755901125365\n",
      "Depth = 5, cv = 4, mean accuracy = 0.6373110534991075\n",
      "Depth = 5, cv = 5, mean accuracy = 0.6191524644855899\n",
      "Depth = 5, cv = 6, mean accuracy = 0.6312957483984472\n",
      "Depth = 5, cv = 7, mean accuracy = 0.6245414400898329\n",
      "Depth = 5, cv = 8, mean accuracy = 0.6540601367638805\n",
      "Depth = 5, cv = 9, mean accuracy = 0.6399831622360254\n",
      "Depth = 6, cv = 2, mean accuracy = 0.6884568980894245\n",
      "Depth = 6, cv = 3, mean accuracy = 0.7046415367225011\n",
      "Depth = 6, cv = 4, mean accuracy = 0.7172749818924665\n",
      "Depth = 6, cv = 5, mean accuracy = 0.7148257103142002\n",
      "Depth = 6, cv = 6, mean accuracy = 0.7252951624796378\n",
      "Depth = 6, cv = 7, mean accuracy = 0.7235463705429552\n",
      "Depth = 6, cv = 8, mean accuracy = 0.7379919442443252\n",
      "Depth = 6, cv = 9, mean accuracy = 0.7356136711693694\n",
      "Depth = 7, cv = 2, mean accuracy = 0.7213004895354369\n",
      "Depth = 7, cv = 3, mean accuracy = 0.7507773006641106\n",
      "Depth = 7, cv = 4, mean accuracy = 0.7545575813799582\n",
      "Depth = 7, cv = 5, mean accuracy = 0.751409853561905\n",
      "Depth = 7, cv = 6, mean accuracy = 0.7736575033545047\n",
      "Depth = 7, cv = 7, mean accuracy = 0.7641468590023529\n",
      "Depth = 7, cv = 8, mean accuracy = 0.7830499715076815\n",
      "Depth = 7, cv = 9, mean accuracy = 0.7964189029656626\n",
      "Depth = 8, cv = 2, mean accuracy = 0.7201224829554462\n",
      "Depth = 8, cv = 3, mean accuracy = 0.766921217729143\n",
      "Depth = 8, cv = 4, mean accuracy = 0.7723940063239885\n",
      "Depth = 8, cv = 5, mean accuracy = 0.7798430158125527\n",
      "Depth = 8, cv = 6, mean accuracy = 0.7776275507424377\n",
      "Depth = 8, cv = 7, mean accuracy = 0.776989698003663\n",
      "Depth = 8, cv = 8, mean accuracy = 0.7998357664768815\n",
      "Depth = 8, cv = 9, mean accuracy = 0.8046364131541516\n",
      "Depth = 9, cv = 2, mean accuracy = 0.7374370738861582\n",
      "Depth = 9, cv = 3, mean accuracy = 0.7741278491247939\n",
      "Depth = 9, cv = 4, mean accuracy = 0.7802024745317613\n",
      "Depth = 9, cv = 5, mean accuracy = 0.782013601750307\n",
      "Depth = 9, cv = 6, mean accuracy = 0.7826195352878079\n",
      "Depth = 9, cv = 7, mean accuracy = 0.7846803517064312\n",
      "Depth = 9, cv = 8, mean accuracy = 0.8007612377309008\n",
      "Depth = 9, cv = 9, mean accuracy = 0.8152407742023363\n",
      "Depth = 10, cv = 2, mean accuracy = 0.7429152380291739\n",
      "Depth = 10, cv = 3, mean accuracy = 0.78525213083467\n",
      "Depth = 10, cv = 4, mean accuracy = 0.7914029279499735\n",
      "Depth = 10, cv = 5, mean accuracy = 0.7749323637913162\n",
      "Depth = 10, cv = 6, mean accuracy = 0.7925932251124023\n",
      "Depth = 10, cv = 7, mean accuracy = 0.7985967204249137\n",
      "Depth = 10, cv = 8, mean accuracy = 0.8035469798972623\n",
      "Depth = 10, cv = 9, mean accuracy = 0.8164021268068468\n",
      "Depth = 11, cv = 2, mean accuracy = 0.751797358094181\n",
      "Depth = 11, cv = 3, mean accuracy = 0.7757748336584273\n",
      "Depth = 11, cv = 4, mean accuracy = 0.7924905320578611\n",
      "Depth = 11, cv = 5, mean accuracy = 0.785923348035073\n",
      "Depth = 11, cv = 6, mean accuracy = 0.7970625211914085\n",
      "Depth = 11, cv = 7, mean accuracy = 0.8040977391750685\n",
      "Depth = 11, cv = 8, mean accuracy = 0.8025670861376742\n",
      "Depth = 11, cv = 9, mean accuracy = 0.8158205785293977\n",
      "Depth = 12, cv = 2, mean accuracy = 0.7557283821547487\n",
      "Depth = 12, cv = 3, mean accuracy = 0.7769103200967947\n",
      "Depth = 12, cv = 4, mean accuracy = 0.7840980662716137\n",
      "Depth = 12, cv = 5, mean accuracy = 0.7720612643908517\n",
      "Depth = 12, cv = 6, mean accuracy = 0.7842925256421344\n",
      "Depth = 12, cv = 7, mean accuracy = 0.7919717320105163\n",
      "Depth = 12, cv = 8, mean accuracy = 0.8124712506855452\n",
      "Depth = 12, cv = 9, mean accuracy = 0.819739269951767\n",
      "Depth = 13, cv = 2, mean accuracy = 0.7435011445615982\n",
      "Depth = 13, cv = 3, mean accuracy = 0.7746508586724565\n",
      "Depth = 13, cv = 4, mean accuracy = 0.7785975680289998\n",
      "Depth = 13, cv = 5, mean accuracy = 0.7809560086474374\n",
      "Depth = 13, cv = 6, mean accuracy = 0.7876588796376859\n",
      "Depth = 13, cv = 7, mean accuracy = 0.7880046070515264\n",
      "Depth = 13, cv = 8, mean accuracy = 0.8238201926182707\n",
      "Depth = 13, cv = 9, mean accuracy = 0.8163407518038279\n",
      "Depth = 14, cv = 2, mean accuracy = 0.7506936736958935\n",
      "Depth = 14, cv = 3, mean accuracy = 0.7796677208563806\n",
      "Depth = 14, cv = 4, mean accuracy = 0.7935971772438115\n",
      "Depth = 14, cv = 5, mean accuracy = 0.7909446465828381\n",
      "Depth = 14, cv = 6, mean accuracy = 0.8003983620428494\n",
      "Depth = 14, cv = 7, mean accuracy = 0.7963439251676913\n",
      "Depth = 14, cv = 8, mean accuracy = 0.815766974346146\n",
      "Depth = 14, cv = 9, mean accuracy = 0.8296797224278486\n",
      "Depth = 15, cv = 2, mean accuracy = 0.7596748900031711\n",
      "Depth = 15, cv = 3, mean accuracy = 0.7741556925084411\n",
      "Depth = 15, cv = 4, mean accuracy = 0.7874272270634128\n",
      "Depth = 15, cv = 5, mean accuracy = 0.7832124950796222\n",
      "Depth = 15, cv = 6, mean accuracy = 0.7919651143633145\n",
      "Depth = 15, cv = 7, mean accuracy = 0.8047215873677344\n",
      "Depth = 15, cv = 8, mean accuracy = 0.8053112669336127\n",
      "Depth = 15, cv = 9, mean accuracy = 0.826354608684082\n",
      "Depth = 16, cv = 2, mean accuracy = 0.7507029639686063\n",
      "Depth = 16, cv = 3, mean accuracy = 0.7880512966697265\n",
      "Depth = 16, cv = 4, mean accuracy = 0.784147196893362\n",
      "Depth = 16, cv = 5, mean accuracy = 0.7848050298446425\n",
      "Depth = 16, cv = 6, mean accuracy = 0.788157764914919\n",
      "Depth = 16, cv = 7, mean accuracy = 0.7974354303874417\n",
      "Depth = 16, cv = 8, mean accuracy = 0.8153820576753946\n",
      "Depth = 16, cv = 9, mean accuracy = 0.8224560972852606\n",
      "Depth = 17, cv = 2, mean accuracy = 0.7518809705485968\n",
      "Depth = 17, cv = 3, mean accuracy = 0.7763286831036186\n",
      "Depth = 17, cv = 4, mean accuracy = 0.7836063900012816\n",
      "Depth = 17, cv = 5, mean accuracy = 0.7731777574534928\n",
      "Depth = 17, cv = 6, mean accuracy = 0.7886867627859946\n",
      "Depth = 17, cv = 7, mean accuracy = 0.799686329319182\n",
      "Depth = 17, cv = 8, mean accuracy = 0.8125091746719086\n",
      "Depth = 17, cv = 9, mean accuracy = 0.8285088084375098\n",
      "Depth = 18, cv = 2, mean accuracy = 0.7446326997780244\n",
      "Depth = 18, cv = 3, mean accuracy = 0.784681614444254\n",
      "Depth = 18, cv = 4, mean accuracy = 0.7813283686286313\n",
      "Depth = 18, cv = 5, mean accuracy = 0.7814661443203508\n",
      "Depth = 18, cv = 6, mean accuracy = 0.7931154812671681\n",
      "Depth = 18, cv = 7, mean accuracy = 0.8036265296025578\n",
      "Depth = 18, cv = 8, mean accuracy = 0.8130117861494812\n",
      "Depth = 18, cv = 9, mean accuracy = 0.826408772538726\n",
      "Depth = 19, cv = 2, mean accuracy = 0.742372686102743\n",
      "Depth = 19, cv = 3, mean accuracy = 0.7707554774815829\n",
      "Depth = 19, cv = 4, mean accuracy = 0.7968650549217392\n",
      "Depth = 19, cv = 5, mean accuracy = 0.7792907355655411\n",
      "Depth = 19, cv = 6, mean accuracy = 0.7853777461164846\n",
      "Depth = 19, cv = 7, mean accuracy = 0.8023865034128143\n",
      "Depth = 19, cv = 8, mean accuracy = 0.8137203738049387\n",
      "Depth = 19, cv = 9, mean accuracy = 0.8246836102464176\n",
      "Depth = 20, cv = 2, mean accuracy = 0.751270289955605\n",
      "Depth = 20, cv = 3, mean accuracy = 0.7702241484202236\n"
     ]
    },
    {
     "name": "stdout",
     "output_type": "stream",
     "text": [
      "Depth = 20, cv = 4, mean accuracy = 0.781989331006397\n",
      "Depth = 20, cv = 5, mean accuracy = 0.7809947860305695\n",
      "Depth = 20, cv = 6, mean accuracy = 0.8047517766569227\n",
      "Depth = 20, cv = 7, mean accuracy = 0.7997781382525387\n",
      "Depth = 20, cv = 8, mean accuracy = 0.8104430218934002\n",
      "Depth = 20, cv = 9, mean accuracy = 0.8164081298124232\n",
      "Depth = 21, cv = 2, mean accuracy = 0.7412473244014587\n",
      "Depth = 21, cv = 3, mean accuracy = 0.7757610236379285\n",
      "Depth = 21, cv = 4, mean accuracy = 0.7936685961854602\n",
      "Depth = 21, cv = 5, mean accuracy = 0.7809000486111599\n",
      "Depth = 21, cv = 6, mean accuracy = 0.7881167922283083\n",
      "Depth = 21, cv = 7, mean accuracy = 0.8024355604108306\n",
      "Depth = 21, cv = 8, mean accuracy = 0.8091602247668613\n",
      "Depth = 21, cv = 9, mean accuracy = 0.8256799046099368\n",
      "Depth = 22, cv = 2, mean accuracy = 0.7590734996828921\n",
      "Depth = 22, cv = 3, mean accuracy = 0.7762980944665704\n",
      "Depth = 22, cv = 4, mean accuracy = 0.7791169683700853\n",
      "Depth = 22, cv = 5, mean accuracy = 0.7798240071017349\n",
      "Depth = 22, cv = 6, mean accuracy = 0.7926168746758199\n",
      "Depth = 22, cv = 7, mean accuracy = 0.7930206330825209\n",
      "Depth = 22, cv = 8, mean accuracy = 0.8135885599061341\n",
      "Depth = 22, cv = 9, mean accuracy = 0.8223448325775132\n",
      "Depth = 23, cv = 2, mean accuracy = 0.7529443970984621\n",
      "Depth = 23, cv = 3, mean accuracy = 0.7829983553419523\n",
      "Depth = 23, cv = 4, mean accuracy = 0.7796883380968594\n",
      "Depth = 23, cv = 5, mean accuracy = 0.7742742510642269\n",
      "Depth = 23, cv = 6, mean accuracy = 0.7921444292756409\n",
      "Depth = 23, cv = 7, mean accuracy = 0.8030835215697063\n",
      "Depth = 23, cv = 8, mean accuracy = 0.8109118796210759\n",
      "Depth = 23, cv = 9, mean accuracy = 0.8252666547893859\n",
      "Depth = 24, cv = 2, mean accuracy = 0.7384881134057397\n",
      "Depth = 24, cv = 3, mean accuracy = 0.7907780808744332\n",
      "Depth = 24, cv = 4, mean accuracy = 0.7918679409509435\n",
      "Depth = 24, cv = 5, mean accuracy = 0.7865253111007388\n",
      "Depth = 24, cv = 6, mean accuracy = 0.7948008708829081\n",
      "Depth = 24, cv = 7, mean accuracy = 0.8046796903711397\n",
      "Depth = 24, cv = 8, mean accuracy = 0.814267916334692\n",
      "Depth = 24, cv = 9, mean accuracy = 0.8213123878959289\n",
      "Depth = 25, cv = 2, mean accuracy = 0.7501294444664659\n",
      "Depth = 25, cv = 3, mean accuracy = 0.782992697328163\n",
      "Depth = 25, cv = 4, mean accuracy = 0.7879719551333796\n",
      "Depth = 25, cv = 5, mean accuracy = 0.7781726826028761\n",
      "Depth = 25, cv = 6, mean accuracy = 0.7993115826420221\n",
      "Depth = 25, cv = 7, mean accuracy = 0.7997023589697327\n",
      "Depth = 25, cv = 8, mean accuracy = 0.8147024125060178\n",
      "Depth = 25, cv = 9, mean accuracy = 0.8263751701580087\n"
     ]
    }
   ],
   "source": [
    "results = []\n",
    "for depth in range (1, 26):\n",
    "    for cv in range (2, 10):\n",
    "        score = cross_val_score( DecisionTreeClassifier( max_depth = depth ), X, Y, cv = cv, scoring = 'accuracy' )\n",
    "        results.append( { 'Depth': depth, 'cv': cv, 'mean_acc': np.mean(score) } )\n",
    "        print(\"Depth = {}, cv = {}, mean accuracy = {}\".format(depth, cv, np.mean(score)))"
   ]
  },
  {
   "cell_type": "code",
   "execution_count": 51,
   "metadata": {},
   "outputs": [],
   "source": [
    "means = []\n",
    "for dict in results:\n",
    "    means.append(dict['mean_acc'])"
   ]
  },
  {
   "cell_type": "code",
   "execution_count": 52,
   "metadata": {},
   "outputs": [
    {
     "data": {
      "text/plain": [
       "{'Depth': 14, 'cv': 9, 'mean_acc': 0.8296797224278486}"
      ]
     },
     "execution_count": 52,
     "metadata": {},
     "output_type": "execute_result"
    }
   ],
   "source": [
    "results[means.index(max(means))]"
   ]
  },
  {
   "cell_type": "markdown",
   "metadata": {},
   "source": [
    "### Спойлер: можно то же самое с помощью grid search"
   ]
  },
  {
   "cell_type": "code",
   "execution_count": 53,
   "metadata": {},
   "outputs": [],
   "source": [
    "from sklearn.model_selection import GridSearchCV"
   ]
  },
  {
   "cell_type": "code",
   "execution_count": 54,
   "metadata": {},
   "outputs": [],
   "source": [
    "params = [ {'max_depth': list( range(1, 20) )} ]"
   ]
  },
  {
   "cell_type": "code",
   "execution_count": 60,
   "metadata": {},
   "outputs": [],
   "source": [
    "gs = GridSearchCV( DecisionTreeClassifier(), param_grid = params, cv = 5, scoring = 'accuracy', return_train_score = False )"
   ]
  },
  {
   "cell_type": "code",
   "execution_count": 61,
   "metadata": {},
   "outputs": [
    {
     "data": {
      "text/plain": [
       "GridSearchCV(cv=5, error_score='raise',\n",
       "       estimator=DecisionTreeClassifier(class_weight=None, criterion='gini', max_depth=None,\n",
       "            max_features=None, max_leaf_nodes=None,\n",
       "            min_impurity_decrease=0.0, min_impurity_split=None,\n",
       "            min_samples_leaf=1, min_samples_split=2,\n",
       "            min_weight_fraction_leaf=0.0, presort=False, random_state=None,\n",
       "            splitter='best'),\n",
       "       fit_params=None, iid=True, n_jobs=1,\n",
       "       param_grid=[{'max_depth': [1, 2, 3, 4, 5, 6, 7, 8, 9, 10, 11, 12, 13, 14, 15, 16, 17, 18, 19]}],\n",
       "       pre_dispatch='2*n_jobs', refit=True, return_train_score=False,\n",
       "       scoring='accuracy', verbose=0)"
      ]
     },
     "execution_count": 61,
     "metadata": {},
     "output_type": "execute_result"
    }
   ],
   "source": [
    "gs.fit( X, Y )"
   ]
  },
  {
   "cell_type": "code",
   "execution_count": 62,
   "metadata": {},
   "outputs": [
    {
     "data": {
      "text/plain": [
       "{'mean_fit_time': array([0.00327697, 0.00485888, 0.00580683, 0.00654693, 0.00733132,\n",
       "        0.00951605, 0.00980873, 0.01085711, 0.01134243, 0.01237006,\n",
       "        0.01245775, 0.01330919, 0.01402664, 0.01391959, 0.01367059,\n",
       "        0.01292248, 0.01324306, 0.01325555, 0.01366086]),\n",
       " 'mean_score_time': array([0.0004631 , 0.00043397, 0.00041261, 0.00029564, 0.00026727,\n",
       "        0.0003736 , 0.00029478, 0.00033188, 0.00029182, 0.00034375,\n",
       "        0.00031109, 0.00039344, 0.00049138, 0.00046134, 0.00044756,\n",
       "        0.0003067 , 0.00032043, 0.00041409, 0.00041914]),\n",
       " 'mean_test_score': array([0.19755147, 0.3116305 , 0.42737896, 0.54479688, 0.62493044,\n",
       "        0.71396772, 0.74624374, 0.7801892 , 0.7801892 , 0.77685031,\n",
       "        0.77796327, 0.78074569, 0.78853645, 0.77963272, 0.78130217,\n",
       "        0.78185865, 0.786867  , 0.77685031, 0.7801892 ]),\n",
       " 'param_max_depth': masked_array(data=[1, 2, 3, 4, 5, 6, 7, 8, 9, 10, 11, 12, 13, 14, 15, 16,\n",
       "                    17, 18, 19],\n",
       "              mask=[False, False, False, False, False, False, False, False,\n",
       "                    False, False, False, False, False, False, False, False,\n",
       "                    False, False, False],\n",
       "        fill_value='?',\n",
       "             dtype=object),\n",
       " 'params': [{'max_depth': 1},\n",
       "  {'max_depth': 2},\n",
       "  {'max_depth': 3},\n",
       "  {'max_depth': 4},\n",
       "  {'max_depth': 5},\n",
       "  {'max_depth': 6},\n",
       "  {'max_depth': 7},\n",
       "  {'max_depth': 8},\n",
       "  {'max_depth': 9},\n",
       "  {'max_depth': 10},\n",
       "  {'max_depth': 11},\n",
       "  {'max_depth': 12},\n",
       "  {'max_depth': 13},\n",
       "  {'max_depth': 14},\n",
       "  {'max_depth': 15},\n",
       "  {'max_depth': 16},\n",
       "  {'max_depth': 17},\n",
       "  {'max_depth': 18},\n",
       "  {'max_depth': 19}],\n",
       " 'rank_test_score': array([19, 18, 17, 16, 15, 14, 13,  6,  6, 11, 10,  5,  1,  9,  4,  3,  2,\n",
       "        11,  6], dtype=int32),\n",
       " 'split0_test_score': array([0.20054945, 0.31593407, 0.43131868, 0.53021978, 0.64010989,\n",
       "        0.73351648, 0.76373626, 0.77472527, 0.75824176, 0.76098901,\n",
       "        0.77197802, 0.75549451, 0.79120879, 0.77197802, 0.79120879,\n",
       "        0.79945055, 0.77747253, 0.76373626, 0.77747253]),\n",
       " 'split1_test_score': array([0.20165746, 0.3038674 , 0.38121547, 0.46132597, 0.49171271,\n",
       "        0.59116022, 0.66574586, 0.70165746, 0.71270718, 0.71823204,\n",
       "        0.71270718, 0.71546961, 0.72099448, 0.71270718, 0.71546961,\n",
       "        0.69337017, 0.73756906, 0.71823204, 0.72099448]),\n",
       " 'split2_test_score': array([0.19498607, 0.31197772, 0.45961003, 0.57103064, 0.62952646,\n",
       "        0.73537604, 0.79108635, 0.80501393, 0.81058496, 0.79108635,\n",
       "        0.79665738, 0.79387187, 0.78830084, 0.79108635, 0.79108635,\n",
       "        0.7994429 , 0.79387187, 0.79108635, 0.7994429 ]),\n",
       " 'split3_test_score': array([0.19327731, 0.31932773, 0.46218487, 0.6162465 , 0.73109244,\n",
       "        0.77871148, 0.76470588, 0.82352941, 0.82352941, 0.83473389,\n",
       "        0.81512605, 0.84313725, 0.84313725, 0.83193277, 0.81792717,\n",
       "        0.83193277, 0.83473389, 0.81512605, 0.81792717]),\n",
       " 'split4_test_score': array([0.1971831 , 0.30704225, 0.4028169 , 0.54647887, 0.63380282,\n",
       "        0.73239437, 0.74647887, 0.7971831 , 0.7971831 , 0.78028169,\n",
       "        0.7943662 , 0.7971831 , 0.8       , 0.7915493 , 0.7915493 ,\n",
       "        0.78591549, 0.7915493 , 0.7971831 , 0.78591549]),\n",
       " 'std_fit_time': array([8.71773353e-05, 2.55086827e-04, 2.21083562e-04, 3.56639526e-04,\n",
       "        1.07724722e-04, 1.01495125e-03, 1.96264599e-04, 2.87957653e-04,\n",
       "        1.05124639e-03, 4.04404956e-04, 5.18069706e-04, 1.02501012e-03,\n",
       "        5.20900172e-04, 3.43323714e-04, 5.56084063e-04, 7.57690139e-04,\n",
       "        7.52296369e-04, 9.00596742e-04, 3.33375624e-04]),\n",
       " 'std_score_time': array([7.33538611e-05, 4.94600822e-05, 5.62586213e-05, 2.86110242e-05,\n",
       "        6.99017903e-06, 4.46091292e-05, 9.22972487e-06, 3.51723569e-05,\n",
       "        2.84352515e-05, 9.10122634e-05, 1.55637486e-05, 3.83714390e-05,\n",
       "        1.55838963e-05, 6.41057861e-05, 6.70291945e-05, 2.08365289e-05,\n",
       "        5.49625932e-05, 7.37054215e-05, 1.07111998e-04]),\n",
       " 'std_test_score': array([0.00319182, 0.00564315, 0.03162012, 0.05097883, 0.07668465,\n",
       "        0.06408555, 0.04285777, 0.04244704, 0.04036975, 0.03809978,\n",
       "        0.03553066, 0.04299598, 0.03922589, 0.03888216, 0.03463077,\n",
       "        0.04693844, 0.03125336, 0.0337674 , 0.03272358])}"
      ]
     },
     "execution_count": 62,
     "metadata": {},
     "output_type": "execute_result"
    }
   ],
   "source": [
    "gs.cv_results_"
   ]
  },
  {
   "cell_type": "code",
   "execution_count": 63,
   "metadata": {},
   "outputs": [
    {
     "data": {
      "text/plain": [
       "{'max_depth': 13}"
      ]
     },
     "execution_count": 63,
     "metadata": {},
     "output_type": "execute_result"
    }
   ],
   "source": [
    "gs.best_params_"
   ]
  }
 ],
 "metadata": {
  "kernelspec": {
   "display_name": "Python 3",
   "language": "python",
   "name": "python3"
  },
  "language_info": {
   "codemirror_mode": {
    "name": "ipython",
    "version": 3
   },
   "file_extension": ".py",
   "mimetype": "text/x-python",
   "name": "python",
   "nbconvert_exporter": "python",
   "pygments_lexer": "ipython3",
   "version": "3.6.4"
  }
 },
 "nbformat": 4,
 "nbformat_minor": 2
}
